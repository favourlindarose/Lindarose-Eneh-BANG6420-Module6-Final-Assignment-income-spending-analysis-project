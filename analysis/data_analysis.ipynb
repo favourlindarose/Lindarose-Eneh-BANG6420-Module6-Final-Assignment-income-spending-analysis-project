{
 "cells": [
  {
   "cell_type": "markdown",
   "metadata": {},
   "source": [
    "# Income Spending Analysis\n",
    "## Data Visualization for Healthcare Product Launch"
   ]
  },
  {
   "cell_type": "code",
   "execution_count": null,
   "metadata": {},
   "outputs": [],
   "source": [
    "# Import necessary libraries\n",
    "import pandas as pd\n",
    "import matplotlib.pyplot as plt\n",
    "import seaborn as sns\n",
    "import numpy as np\n",
    "\n",
    "# Set style for plots\n",
    "plt.style.use('default')\n",
    "sns.set_palette(\"husl\")\n",
    "\n",
    "# Load the data\n",
    "df = pd.read_csv('../user_data.csv')\n",
    "\n",
    "# Display first few rows\n",
    "print(\"Data Overview:\")\n",
    "display(df.head())\n",
    "\n",
    "# Display basic statistics\n",
    "print(\"\\nBasic Statistics:\")\n",
    "display(df.describe())"
   ]
  },
  {
   "cell_type": "code",
   "execution_count": null,
   "metadata": {},
   "outputs": [],
   "source": [
    "# 1. Show ages with the highest income\n",
    "plt.figure(figsize=(12, 6))\n",
    "age_income = df.groupby('age')['total_income'].mean().sort_values(ascending=False)\n",
    "age_income.plot(kind='bar', color='lightcoral')\n",
    "plt.title('Average Income by Age', fontsize=16, fontweight='bold')\n",
    "plt.xlabel('Age', fontsize=12)\n",
    "plt.ylabel('Average Income ($)', fontsize=12)\n",
    "plt.xticks(rotation=45)\n",
    "plt.grid(axis='y', alpha=0.3)\n",
    "plt.tight_layout()\n",
    "plt.savefig('age_income_analysis.png', dpi=300, bbox_inches='tight')\n",
    "plt.show()\n",
    "\n",
    "print(\"Top 5 Ages by Average Income:\")\n",
    "print(age_income.head())"
   ]
  },
  {
   "cell_type": "code",
   "execution_count": null,
   "metadata": {},
   "outputs": [],
   "source": [
    "# 2. Show gender distribution across spending categories\n",
    "gender_expenses = df.groupby('gender')[['utilities', 'entertainment', 'school_fees', 'shopping', 'healthcare']].mean()\n",
    "\n",
    "plt.figure(figsize=(14, 7))\n",
    "gender_expenses.plot(kind='bar')\n",
    "plt.title('Average Spending by Gender Across Categories', fontsize=16, fontweight='bold')\n",
    "plt.xlabel('Gender', fontsize=12)\n",
    "plt.ylabel('Average Spending ($)', fontsize=12)\n",
    "plt.xticks(rotation=0)\n",
    "plt.legend(title='Expense Categories', bbox_to_anchor=(1.05, 1), loc='upper left')\n",
    "plt.grid(axis='y', alpha=0.3)\n",
    "plt.tight_layout()\n",
    "plt.savefig('gender_spending_analysis.png', dpi=300, bbox_inches='tight')\n",
    "plt.show()\n",
    "\n",
    "print(\"Average Spending by Gender:\")\n",
    "display(gender_expenses)"
   ]
  },
  {
   "cell_type": "code",
   "execution_count": null,
   "metadata": {},
   "outputs": [],
   "source": [
    "# 3. Additional analysis: Income vs Healthcare spending\n",
    "plt.figure(figsize=(10, 6))\n",
    "plt.scatter(df['total_income'], df['healthcare'], alpha=0.6, color='purple')\n",
    "plt.title('Income vs Healthcare Spending', fontsize=16, fontweight='bold')\n",
    "plt.xlabel('Total Income ($)', fontsize=12)\n",
    "plt.ylabel('Healthcare Spending ($)', fontsize=12)\n",
    "plt.grid(alpha=0.3)\n",
    "plt.tight_layout()\n",
    "plt.savefig('income_vs_healthcare.png', dpi=300, bbox_inches='tight')\n",
    "plt.show()\n",
    "\n",
    "# Calculate correlation\n",
    "correlation = df['total_income'].corr(df['healthcare'])\n",
    "print(f\"Correlation between income and healthcare spending: {correlation:.2f}\")"
   ]
  },
  {
   "cell_type": "markdown",
   "metadata": {},
   "source": [
    "## Summary of Findings\n",
    "\n",
    "Based on the analysis of the current data:\n",
    "\n",
    "1. **Income by Age**: [Add your observations here]\n",
    "2. **Spending Patterns by Gender**: [Add your observations here]\n",
    "3. **Healthcare Spending**: [Add your observations here]\n",
    "\n",
    "These insights will help inform our healthcare product launch strategy."
   ]
  }
 ],
 "metadata": {
  "kernelspec": {
   "display_name": "Python 3 (ipykernel)",
   "language": "python",
   "name": "python3"
  },
  "language_info": {
   "codemirror_mode": {
    "name": "ipython",
    "version": 3
   },
   "file_extension": ".py",
   "mimetype": "text/x-python",
   "name": "python",
   "nbconvert_exporter": "python",
   "pygments_lexer": "ipython3",
   "version": "3.12.3"
  }
 },
 "nbformat": 4,
 "nbformat_minor": 4
}
